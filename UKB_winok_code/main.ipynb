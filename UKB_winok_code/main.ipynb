{
 "cells": [
  {
   "cell_type": "markdown",
   "metadata": {},
   "source": [
    "#### cPCA method outline\n",
    "0) preprocessing to adjust for covariates\n",
    "1) keep feature with high ratio of local vs global variance\n",
    "   which correspond to higher probability of being in \n",
    "   trajectory\n",
    "2) use cPCA which focuses more on diseased population\n",
    "   by using 2 covariant matrices to get a weighted difference\n",
    "   between the matrices. also uses multiple weightings \n",
    "   and clusters them based on proximity to princical angle\n",
    "   to reduce to few subspaces. instead of visual inspection\n",
    "   in original algorithm, use gap clustering criteria (matlab)\n",
    "    1) main purpose of PCA is to reduce high dimensional data\n",
    "        down into 2 basic components, and highly correlated variables\n",
    "        cluster together in the 2D PCA representation. Distances\n",
    "        between each PC is also more significant for 1st component\n",
    "        compared to 2nd component.\n",
    "    2) PCA identifies direction with the highest variance in target\n",
    "        data, while cPCA identifies direction with highest variance\n",
    "        in the target data compared to background data\n",
    "3) order subjects according to their proximity to background\n",
    "   population in the cPCA space. Get euclidean distance matrix\n",
    "   for all subjects and get the minimum spanning tree (minimum\n",
    "   distance path) from any subject to the background samples.\n",
    "   Then this can be used for every subject to calculate a score\n",
    "   using the shortest distance to the background sample's centroid\n",
    "   Lastly every subject is ordered according to these values."
   ]
  },
  {
   "cell_type": "code",
   "execution_count": 3,
   "metadata": {},
   "outputs": [
    {
     "name": "stderr",
     "output_type": "stream",
     "text": [
      "C:\\Users\\zxiong\\AppData\\Local\\Temp\\ipykernel_39528\\136691185.py:6: DtypeWarning: Columns (3,5,772,929,930,2640,2642,2644,3119,3121,3123,3124,3125,3126,3162,3163,3164,3165,3166,3167,3174,3175,3176,3177,3178,3179,3257,3258,3259,3260,3261,3262,3270,3271,3272,3273,3274,3275,3276,3277,3278,3279,3280,3281,3289,3290,3291,3292,3293,3294,3295,3296,3297,3298,3299,3300,3301,3303,3304,3305,3307,3308,3309,3310,3311) have mixed types. Specify dtype option on import or set low_memory=False.\n",
      "  df = pd.read_csv(\"../bb_data.csv\")\n"
     ]
    }
   ],
   "source": [
    "import sys\n",
    "import numpy as np\n",
    "import pandas as pd\n",
    "import h5py\n",
    "\n",
    "df = pd.read_csv(\"../bb_data.csv\")\n",
    "\n",
    "\n",
    "sys.exit()\n",
    "\n"
   ]
  }
 ],
 "metadata": {
  "interpreter": {
   "hash": "58af6dfa686e28d370c1d3db2d3cd782664e2f27c3dcacb1eb93ffabbdbc179a"
  },
  "kernelspec": {
   "display_name": "Python 3.7.9 64-bit",
   "language": "python",
   "name": "python3"
  },
  "language_info": {
   "codemirror_mode": {
    "name": "ipython",
    "version": 3
   },
   "file_extension": ".py",
   "mimetype": "text/x-python",
   "name": "python",
   "nbconvert_exporter": "python",
   "pygments_lexer": "ipython3",
   "version": "3.10.2"
  },
  "orig_nbformat": 4
 },
 "nbformat": 4,
 "nbformat_minor": 2
}
