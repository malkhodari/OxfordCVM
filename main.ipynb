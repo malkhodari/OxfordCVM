{
 "cells": [
  {
   "cell_type": "markdown",
   "metadata": {},
   "source": [
    "#### cPCA method outline\n",
    "0) preprocessing to adjust for covariates\n",
    "1) keep feature with high ratio of local vs global variance\n",
    "   which correspond to higher probability of being in \n",
    "   trajectory\n",
    "2) use cPCA which focuses more on diseased population\n",
    "   by using 2 covariant matrices to get a weighted difference\n",
    "   between the matrices. also uses multiple weightings \n",
    "   and clusters them based on proximity to princical angle\n",
    "   to reduce to few subspaces. instead of visual inspection\n",
    "   in original algorithm, use gap clustering criteria (matlab)\n",
    "    1) main purpose of PCA is to reduce high dimensional data\n",
    "        down into 2 basic components, and highly correlated variables\n",
    "        cluster together in the 2D PCA representation. Distances\n",
    "        between each PC is also more significant for 1st component\n",
    "        compared to 2nd component.\n",
    "    2) PCA identifies direction with the highest variance in target\n",
    "        data, while cPCA identifies direction with highest variance\n",
    "        in the target data compared to background data\n",
    "3) order subjects according to their proximity to background\n",
    "   population in the cPCA space. Get euclidean distance matrix\n",
    "   for all subjects and get the minimum spanning tree (minimum\n",
    "   distance path) from any subject to the background samples.\n",
    "   Then this can be used for every subject to calculate a score\n",
    "   using the shortest distance to the background sample's centroid\n",
    "   Lastly every subject is ordered according to these values."
   ]
  },
  {
   "cell_type": "code",
   "execution_count": 5,
   "metadata": {},
   "outputs": [
    {
     "ename": "SystemExit",
     "evalue": "",
     "output_type": "error",
     "traceback": [
      "An exception has occurred, use %tb to see the full traceback.\n",
      "\u001b[1;31mSystemExit\u001b[0m\n"
     ]
    }
   ],
   "source": [
    "import os\n",
    "import sys\n",
    "#import numpy as np\n",
    "#import pandas as pd\n",
    "\n",
    "#df = pd.read_csv(\"bb_data.csv\")\n",
    "\n",
    "sys.exit()\n",
    "\n"
   ]
  }
 ],
 "metadata": {
  "interpreter": {
   "hash": "58af6dfa686e28d370c1d3db2d3cd782664e2f27c3dcacb1eb93ffabbdbc179a"
  },
  "kernelspec": {
   "display_name": "Python 3.7.9 64-bit",
   "language": "python",
   "name": "python3"
  },
  "language_info": {
   "codemirror_mode": {
    "name": "ipython",
    "version": 3
   },
   "file_extension": ".py",
   "mimetype": "text/x-python",
   "name": "python",
   "nbconvert_exporter": "python",
   "pygments_lexer": "ipython3",
   "version": "3.7.9"
  },
  "orig_nbformat": 4
 },
 "nbformat": 4,
 "nbformat_minor": 2
}
